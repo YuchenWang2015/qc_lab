{
 "cells": [
  {
   "cell_type": "markdown",
   "metadata": {},
   "source": [
    "## Quickstart"
   ]
  },
  {
   "cell_type": "code",
   "execution_count": null,
   "metadata": {
    "vscode": {
     "languageId": "plaintext"
    }
   },
   "outputs": [],
   "source": [
    "import numpy as np\n",
    "import matplotlib.pyplot as plt\n",
    "from qc_lab import Simulation # import simulation class \n",
    "from qc_lab.models import SpinBoson # import model class \n",
    "from qc_lab.algorithms import MeanField # import algorithm class \n",
    "from qc_lab.dynamics import serial_driver # import dynamics driver"
   ]
  }
 ],
 "metadata": {
  "language_info": {
   "name": "python"
  }
 },
 "nbformat": 4,
 "nbformat_minor": 2
}
