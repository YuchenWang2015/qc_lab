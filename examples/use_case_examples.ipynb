{
 "cells": [
  {
   "cell_type": "markdown",
   "id": "8a0aec14",
   "metadata": {},
   "source": []
  },
  {
   "cell_type": "code",
   "execution_count": 1,
   "id": "33072556",
   "metadata": {},
   "outputs": [
    {
     "name": "stderr",
     "output_type": "stream",
     "text": [
      "100%|██████████| 1001/1001 [00:01<00:00, 651.06it/s]\n",
      "100%|██████████| 1001/1001 [00:00<00:00, 15230.16it/s]\n",
      "100%|██████████| 1001/1001 [00:00<00:00, 16741.63it/s]\n",
      "100%|██████████| 1001/1001 [00:00<00:00, 15860.57it/s]\n",
      "100%|██████████| 1001/1001 [00:00<00:00, 15393.38it/s]\n",
      "100%|██████████| 1001/1001 [00:00<00:00, 14964.12it/s]\n",
      "100%|██████████| 1001/1001 [00:00<00:00, 16220.88it/s]\n",
      "100%|██████████| 1001/1001 [00:00<00:00, 15668.96it/s]\n",
      "100%|██████████| 1001/1001 [00:00<00:00, 16374.54it/s]\n",
      "100%|██████████| 1001/1001 [00:00<00:00, 16024.62it/s]\n",
      "100%|██████████| 1001/1001 [00:00<00:00, 1737.45it/s]\n",
      "100%|██████████| 1001/1001 [00:00<00:00, 1536.73it/s]\n",
      "100%|██████████| 1001/1001 [00:00<00:00, 1402.85it/s]\n",
      "100%|██████████| 1001/1001 [00:00<00:00, 1373.76it/s]\n",
      "100%|██████████| 1001/1001 [00:00<00:00, 6160.49it/s]\n",
      "100%|██████████| 1001/1001 [00:00<00:00, 7827.83it/s]\n",
      "100%|██████████| 1001/1001 [00:00<00:00, 1281.14it/s]\n",
      "100%|██████████| 1001/1001 [00:00<00:00, 1282.30it/s]\n",
      "100%|██████████| 1001/1001 [00:00<00:00, 1225.25it/s]\n",
      "100%|██████████| 1001/1001 [00:00<00:00, 1202.03it/s]\n"
     ]
    }
   ],
   "source": [
    "from qc_lab import Simulation\n",
    "from qc_lab.dynamics import serial_driver, parallel_driver_multiprocessing\n",
    "from qc_lab.models import SpinBoson\n",
    "from qc_lab.algorithms import MeanField\n",
    "import numpy as np\n",
    "sim = Simulation()\n",
    "sim.model = SpinBoson()\n",
    "sim.algorithm = MeanField()\n",
    "sim.state.wf_db = np.array([1.0, 0.0], dtype=complex)\n",
    "data = serial_driver(sim)\n",
    "data = parallel_driver_multiprocessing(sim)"
   ]
  },
  {
   "cell_type": "code",
   "execution_count": null,
   "id": "26072e56",
   "metadata": {},
   "outputs": [],
   "source": []
  }
 ],
 "metadata": {
  "kernelspec": {
   "display_name": ".venv",
   "language": "python",
   "name": "python3"
  },
  "language_info": {
   "codemirror_mode": {
    "name": "ipython",
    "version": 3
   },
   "file_extension": ".py",
   "mimetype": "text/x-python",
   "name": "python",
   "nbconvert_exporter": "python",
   "pygments_lexer": "ipython3",
   "version": "3.10.12"
  }
 },
 "nbformat": 4,
 "nbformat_minor": 5
}
